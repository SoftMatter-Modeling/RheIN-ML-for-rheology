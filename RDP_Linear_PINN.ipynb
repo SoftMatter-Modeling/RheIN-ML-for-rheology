{
 "cells": [
  {
   "cell_type": "markdown",
   "id": "12f79792",
   "metadata": {},
   "source": [
    
   ]
  },
  {
   "cell_type": "code",
   "execution_count": 1,
   "id": "f77377f8",
   "metadata": {},
   "outputs": [],
   "source": [
    "import torch\n",
    "import torch.nn as nn\n",
    "import torch.optim as optim\n",
    "import numpy as np\n",
    "import matplotlib.pyplot as plt\n",
    "import torch.nn.functional as F\n",
    "# https://i-systems.github.io/tutorial/KSNVE/220525/01_PINN.html"
   ]
  },
  {
   "cell_type": "markdown",
   "id": "4fcfa430",
   "metadata": {},
   "source": [
    "Train the linear rehology first to see how it works. \n",
    "\n",
    "linear relaxation modulues should follows the double-repetation equation as below:\n",
    "\n",
    "$$\n",
    "G(t)=G^0_N\\Sigma^n_i\\Sigma^n_j \\phi_i \\phi_j \\exp(-\\frac{t}{\\tau_{d,i}}-\\frac{t}{\\tau_{d,j}})\n",
    "$$\n",
    "\n",
    "The constraints should be during the optimization process should be \n",
    "\n",
    "$$\n",
    "\\Sigma^n_i \\phi_i=1\n",
    "$$\n",
    "\n",
    "Addtionally, the both $\\phi_i$ and $\\tau_{d,i}$ should be larger than zero. \n",
    "\n",
    "\n",
    "The $G^0_N$ is a constant value that can be obtained from the experiment"
   ]
  },
  {
   "cell_type": "code",
   "execution_count": 2,
   "id": "f4cd997f",
   "metadata": {},
   "outputs": [
    {
     "data": {
      "text/plain": [
       "Text(0, 0.5, 'Gt')"
      ]
     },
     "execution_count": 2,
     "metadata": {},
     "output_type": "execute_result"
    },
    {
     "data": {
      "image/png": "[encoded data removed]",
      "text/plain": [
       "<Figure size 400x300 with 1 Axes>"
      ]
     },
     "metadata": {},
     "output_type": "display_data"
    }
   ],
   "source": [
    "# plot the training data \n",
    "\n",
    "Gt=np.loadtxt('./Gt2.txt')\n",
    "train_t  = np.log10(Gt[:,0]).reshape(-1, 1)\n",
    "true_G   = np.log10(Gt[:,1]).reshape(-1, 1)\n",
    "\n",
    "input_size = len(train_t)\n",
    "\n",
    "# Plotting results\n",
    "fig, ax=plt.subplots(1,1,figsize=(4,3))\n",
    "ax.plot(train_t, true_G, '-+', label='Train')\n",
    "ax.legend(fontsize=15)\n",
    "ax.set_xlabel('t', fontsize=15)\n",
    "ax.set_ylabel('Gt', fontsize=15)"
   ]
  },
  {
   "cell_type": "code",
   "execution_count": 3,
   "id": "8c46e98f",
   "metadata": {},
   "outputs": [],
   "source": [
    "class NeuralNet(nn.Module):\n",
    "    def __init__(self, phi_init=None, inv_taud_init=None):\n",
    "        super(NeuralNet, self).__init__()\n",
    "        self.net = nn.Sequential(\n",
    "            nn.Linear(1, 128),\n",
    "            nn.Tanh(),\n",
    "            nn.Linear(128, 128),\n",
    "            nn.Tanh(),\n",
    "            nn.Linear(128, 128),\n",
    "            nn.Tanh(),\n",
    "            nn.Linear(128, 1),\n",
    "            #nn.Tanh(),          # Ensures outputs are positive or zero\n",
    "            \n",
    "        )\n",
    "        \n",
    "        # Define learnable parameters mu and k\n",
    "        self.raw_phi = nn.Parameter(\n",
    "            torch.tensor(phi_init if phi_init is not None else [0.1] * 7, dtype=torch.float32)\n",
    "        )\n",
    "        self.raw_inv_taud = nn.Parameter(\n",
    "            torch.tensor(inv_taud_init if inv_taud_init is not None else [1.0] * 7, dtype=torch.float32)\n",
    "        )\n",
    "\n",
    "    def forward(self, t):\n",
    "        return self.net(t)\n",
    "    \n",
    "    \n",
    "    def get_constrained_parameters(self):\n",
    "         phi_raw      = F.relu(self.raw_phi) \n",
    "         phi = phi_raw / torch.sum(phi_raw)   \n",
    "         inv_taud = torch.pow(10,(self.raw_inv_taud))  \n",
    "        \n",
    "         return phi, inv_taud"
   ]
  },
  {
   "cell_type": "code",
   "execution_count": 4,
   "id": "6946b32a",
   "metadata": {},
   "outputs": [
    {
     "name": "stdout",
     "output_type": "stream",
     "text": [
      "[5, 4, 2, 1, 0, -2, -3]\n"
     ]
    }
   ],
   "source": [
    "# Instantiate the model\n",
    "#mphi_init     = [0.5, 0.3, 0.1, 0.05,  0.001,0.001,0.001]\n",
    "#minv_taud_init = [5, 4, 2, 1, 0, -2, -3]\n",
    "\n",
    "mphi_init     = [0.1, 0.1, 0.1, 0.1,  0.1,0.1,0.1]\n",
    "#minv_taud_array = -np.linspace(min(train_t),max(train_t),num=7)\n",
    "#minv_taud_array = -np.linspace(min(train_t), max(train_t), num=7)  # Precompute the values\n",
    "#minv_taud_init = [-min(train_t),-min(train_t)-1, -min(train_t)-2,  max(train_t),  max(train_t),  max(train_t),  max(train_t)]\n",
    "#minv_taud_init = [-min(train_t)[0], 4, 2, 1, 0, -2, -max(train_t)[0]]\n",
    "minv_taud_init = [5, 4, 2, 1, 0, -2, -3]\n",
    "\n",
    "print(minv_taud_init)\n",
    "\n",
    "NN = NeuralNet(phi_init=mphi_init, inv_taud_init=minv_taud_init)\n",
    "#= Optimizer\n",
    "optimizer = optim.Adam(NN.parameters(), lr=1e-4)"
   ]
  },
  {
   "cell_type": "code",
   "execution_count": 5,
   "id": "10cd9e03",
   "metadata": {},
   "outputs": [],
   "source": [
    "# define the constant value \n",
    "G0    = torch.tensor(1.34e6, dtype=torch.float32) \n",
    "taue  = torch.tensor(7.0e-8, dtype=torch.float32)\n",
    "Ncomp = 7  \n",
    "\n",
    "# ODE system loss function\n",
    "\n",
    "def mysystem_loss(t, y, model):\n",
    "    t = torch.tensor(t, dtype=torch.float32).view(-1, 1)  # Ensure t is a tensor\n",
    "    y = torch.tensor(y, dtype=torch.float32).view(-1, 1)  # Ensure y is a tensor\n",
    "      \n",
    "    # Get model outputs\n",
    "    u = model(t)  \n",
    "\n",
    "    phi, inv_taud      =model.get_constrained_parameters()              # First Ncomp outputs are phi\n",
    "    # =model.inv_taud                # Remaining Ncomp outputs are inv_taud\n",
    "    \n",
    "    # Compute exp(-inv_taud[i] * 10^t) for all i and t using broadcasting\n",
    "    exp_terms = torch.exp(-inv_taud[:, None] * torch.pow(10, t.T))  # Shape: (7, input_size)\n",
    "\n",
    "    # Compute the outer product of phi with itself\n",
    "    phi_outer = phi[:, None] * phi[None, :]  # Shape: (7, 7)\n",
    "\n",
    "    # Compute Gt using matrix multiplication and summation\n",
    "    Gt = (phi_outer[:, :, None] * exp_terms[:, None, :] * exp_terms[None, :, :]).sum(dim=(0, 1))  # Shape: (input_size)\n",
    "\n",
    "    # Reshape Gt2 to match your desired output shape\n",
    "    Gt = Gt.view(-1, 1)  # Shape: (input_size, 1)\n",
    "\n",
    "    Gt = Gt * G0\n",
    "   \n",
    "    # Compute the loss as the difference \n",
    "    loss_phys   = torch.log10(Gt) - y\n",
    "    loss_cons1  = (torch.sum(phi)-1.0)**2\n",
    "    \n",
    "    loss_num    = u-y\n",
    "    \n",
    "    # Return the mean squared error\n",
    "    total_loss =  5*torch.mean(loss_phys**2)+loss_cons1 +torch.mean(loss_num**2)\n",
    "    \n",
    "    #print(torch.mean(loss_num**2), torch.mean(loss_phys**2), loss_cons1)\n",
    "    return total_loss, Gt.detach().cpu().numpy(), phi.detach().cpu().numpy(), inv_taud.detach().cpu().numpy()\n",
    "    \n"
   ]
  },
  {
   "cell_type": "code",
   "execution_count": 6,
   "id": "05dd05ec",
   "metadata": {},
   "outputs": [
    {
     "name": "stdout",
     "output_type": "stream",
     "text": [
      "63.80547332763672\n",
      "3.522282361984253\n",
      "2.5273263454437256\n",
      "2.0152530670166016\n",
      "1.720342755317688\n",
      "1.5114247798919678\n",
      "1.3436644077301025\n",
      "1.1981077194213867\n",
      "1.0666639804840088\n",
      "0.9460300207138062\n",
      "0.835369884967804\n",
      "0.7348127365112305\n",
      "0.6437669992446899\n",
      "0.5611990690231323\n",
      "0.48709118366241455\n",
      "0.42114558815956116\n",
      "0.36263307929039\n",
      "0.31369099020957947\n",
      "0.26978814601898193\n",
      "0.22966358065605164\n",
      "0.1949445754289627\n",
      "0.169292613863945\n",
      "0.14728809893131256\n",
      "0.1258602887392044\n",
      "0.11041729897260666\n",
      "0.0982537642121315\n",
      "0.08889437466859818\n",
      "0.0818752720952034\n",
      "0.07681738585233688\n",
      "0.07331883162260056\n",
      "0.07102641463279724\n",
      "0.06959415227174759\n",
      "0.06871259957551956\n",
      "0.06816107034683228\n",
      "0.06779754906892776\n",
      "0.0675458088517189\n",
      "0.06735078245401382\n",
      "0.06720257550477982\n",
      "0.06707528233528137\n",
      "0.06696484237909317\n"
     ]
    },
    {
     "data": {
      "image/png": "[encoded data removed]",
      "text/plain": [
       "<Figure size 400x300 with 1 Axes>"
      ]
     },
     "metadata": {},
     "output_type": "display_data"
    }
   ],
   "source": [
    "# Training data\n",
    "train_loss_record = []\n",
    "Gt_evolution = []\n",
    "phi_evolution = []\n",
    "inv_taud_evolution = []\n",
    "\n",
    "# Training loop\n",
    "for itr in range(40000):\n",
    "    optimizer.zero_grad()\n",
    "    train_loss, Gt_values, phi_values, inv_taud_values = mysystem_loss(train_t, true_G,  NN)\n",
    "    train_loss.backward()\n",
    "    optimizer.step()\n",
    "\n",
    "    train_loss_record.append(train_loss.item())\n",
    "    \n",
    "    # Record the evolution of phi and inv_taud\n",
    "    Gt_evolution.append(Gt_values)\n",
    "    phi_evolution.append(phi_values)\n",
    "    inv_taud_evolution.append(inv_taud_values)\n",
    "    \n",
    "\n",
    "    if itr % 1000 == 0:\n",
    "        print(train_loss.item())\n",
    "\n",
    "# Plot training loss\n",
    "plt.figure(figsize=(4, 3))\n",
    "plt.plot(train_loss_record)\n",
    "plt.title(\"Training Loss\", fontsize=15)\n",
    "plt.xlabel(\"Iteration\", fontsize=15)\n",
    "plt.ylabel(\"Loss\", fontsize=15)\n",
    "plt.show()\n",
    "\n"
   ]
  },
  {
   "cell_type": "code",
   "execution_count": 7,
   "id": "bac7ecf7",
   "metadata": {},
   "outputs": [
    {
     "data": {
      "image/png": "[encoded data removed]",
      "text/plain": [
       "<Figure size 400x300 with 1 Axes>"
      ]
     },
     "metadata": {},
     "output_type": "display_data"
    },
    {
     "name": "stdout",
     "output_type": "stream",
     "text": [
      "[6.1230153e-01 3.2324076e-01 5.6987476e-02 6.8277568e-03 6.0056965e-04\n",
      " 0.0000000e+00 4.1876021e-05]\n",
      "[2.3794719e+03 3.3809189e+01 1.2970487e+00 6.4434648e-02 4.1630324e-03\n",
      " 1.1498759e-02 2.8998745e-04]\n"
     ]
    }
   ],
   "source": [
    "train_loss, Gt_values, phi_values, inv_taud_values = mysystem_loss(train_t, true_G,  NN)\n",
    "t = torch.tensor(train_t, dtype=torch.float32).view(-1, 1)\n",
    "G_num=NN(t).detach().numpy()\n",
    "\n",
    "plt.figure(figsize=(4, 3))\n",
    "\n",
    "plt.plot(train_t, G_num,'o')\n",
    "plt.plot(train_t, true_G, '--r', label='Train_numerical')\n",
    "plt.plot(train_t, np.log10(Gt_values), '--b', label='Train_phys')\n",
    "plt.title(\"Gt\", fontsize=15)\n",
    "plt.xlabel(\"time\", fontsize=15)\n",
    "plt.ylabel(\"Gt\", fontsize=15)\n",
    "plt.legend()\n",
    "plt.show()\n",
    "\n",
    "print(phi_values)\n",
    "print(inv_taud_values)"
   ]
  },
  {
   "cell_type": "code",
   "execution_count": 8,
   "id": "a89c2d79",
   "metadata": {},
   "outputs": [
    {
     "data": {
      "text/plain": [
       "'\\nGt_evolution=np.array(Gt_evolution)\\n\\nplt.figure(figsize=(4, 3))\\nfor i in range(2):\\n    plt.plot(train_t, np.log10(Gt_evolution[i, :]), label=f\"step=[{i}]\")\\nplt.plot(train_t, true_G, \\'--r\\', label=\\'Train\\')\\nplt.title(\"Gt\", fontsize=15)\\nplt.xlabel(\"time\", fontsize=15)\\nplt.ylabel(\"Gt\", fontsize=15)\\nplt.legend()\\nplt.show()\\n\\n\\nphi_evolution=np.array(phi_evolution)\\nplt.figure(figsize=(4, 3))\\nfor i in range(Ncomp):\\n    plt.plot(phi_evolution[:, i], \\'o\\', label=f\"phi[{i}]\")\\nplt.title(\"Evolution of Phi\", fontsize=15)\\nplt.xlabel(\"Iteration\", fontsize=15)\\nplt.ylabel(\"Phi Values\", fontsize=15)\\nplt.legend()\\nplt.show()\\n\\ninv_taud_evolution=np.array(inv_taud_evolution)\\n# Plot evolution of inv_taud values\\nplt.figure(figsize=(4, 3))\\nfor i in range(Ncomp):\\n    plt.plot(inv_taud_evolution[:, i], \\'o\\',label=f\"inv_taud[{i}]\")\\nplt.title(\"Evolution of Inv_taud\", fontsize=15)\\nplt.xlabel(\"Iteration\", fontsize=15)\\nplt.yscale(\\'log\\')\\nplt.ylabel(\"Inv_taud Values\", fontsize=15)\\nplt.legend()\\nplt.show()\\n'"
      ]
     },
     "execution_count": 8,
     "metadata": {},
     "output_type": "execute_result"
    }
   ],
   "source": [
    "# Plot evolution of phi values\n",
    "'''\n",
    "Gt_evolution=np.array(Gt_evolution)\n",
    "\n",
    "plt.figure(figsize=(4, 3))\n",
    "for i in range(2):\n",
    "    plt.plot(train_t, np.log10(Gt_evolution[i, :]), label=f\"step=[{i}]\")\n",
    "plt.plot(train_t, true_G, '--r', label='Train')\n",
    "plt.title(\"Gt\", fontsize=15)\n",
    "plt.xlabel(\"time\", fontsize=15)\n",
    "plt.ylabel(\"Gt\", fontsize=15)\n",
    "plt.legend()\n",
    "plt.show()\n",
    "\n",
    "\n",
    "phi_evolution=np.array(phi_evolution)\n",
    "plt.figure(figsize=(4, 3))\n",
    "for i in range(Ncomp):\n",
    "    plt.plot(phi_evolution[:, i], 'o', label=f\"phi[{i}]\")\n",
    "plt.title(\"Evolution of Phi\", fontsize=15)\n",
    "plt.xlabel(\"Iteration\", fontsize=15)\n",
    "plt.ylabel(\"Phi Values\", fontsize=15)\n",
    "plt.legend()\n",
    "plt.show()\n",
    "\n",
    "inv_taud_evolution=np.array(inv_taud_evolution)\n",
    "# Plot evolution of inv_taud values\n",
    "plt.figure(figsize=(4, 3))\n",
    "for i in range(Ncomp):\n",
    "    plt.plot(inv_taud_evolution[:, i], 'o',label=f\"inv_taud[{i}]\")\n",
    "plt.title(\"Evolution of Inv_taud\", fontsize=15)\n",
    "plt.xlabel(\"Iteration\", fontsize=15)\n",
    "plt.yscale('log')\n",
    "plt.ylabel(\"Inv_taud Values\", fontsize=15)\n",
    "plt.legend()\n",
    "plt.show()\n",
    "'''"
   ]
  },
  {
   "cell_type": "code",
   "execution_count": null,
   "id": "8998a5e7",
   "metadata": {},
   "outputs": [],
   "source": [
    "\n",
    "    "
   ]
  },
  {
   "cell_type": "code",
   "execution_count": null,
   "id": "ac7805fa",
   "metadata": {},
   "outputs": [],
   "source": []
  },
  {
   "cell_type": "code",
   "execution_count": null,
   "id": "d9d38d02",
   "metadata": {},
   "outputs": [],
   "source": []
  },
  {
   "cell_type": "code",
   "execution_count": null,
   "id": "bba7538b",
   "metadata": {},
   "outputs": [],
   "source": []
  },
  {
   "cell_type": "code",
   "execution_count": null,
   "id": "85cb9ea7",
   "metadata": {},
   "outputs": [],
   "source": []
  }
 ],
 "metadata": {
  "kernelspec": {
   "display_name": "Python 3 (ipykernel)",
   "language": "python",
   "name": "python3"
  },
  "language_info": {
   "codemirror_mode": {
    "name": "ipython",
    "version": 3
   },
   "file_extension": ".py",
   "mimetype": "text/x-python",
   "name": "python",
   "nbconvert_exporter": "python",
   "pygments_lexer": "ipython3",
   "version": "3.10.9"
  }
 },
 "nbformat": 4,
 "nbformat_minor": 5
}
